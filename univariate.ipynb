{
 "cells": [
  {
   "cell_type": "code",
   "execution_count": 11,
   "id": "f8955eda-faad-4c6b-aac4-40a1c85f5936",
   "metadata": {},
   "outputs": [],
   "source": [
    "const fs = require('fs');\n",
    "const parse = require(\"csv-parse/lib/sync\");\n",
    "const { AnomalyDetectorClient } = require('@azure/ai-anomaly-detector');\n",
    "const { AzureKeyCredential } = require('@azure/core-auth');"
   ]
  },
  {
   "cell_type": "code",
   "execution_count": 12,
   "id": "83785b23-492a-4a4d-8cff-849e6928ebc7",
   "metadata": {},
   "outputs": [],
   "source": [
    "const dotenv = require(\"dotenv\");\n",
    "dotenv.config();\n",
    "// Authentication variables\n",
    "// Add your Anomaly Detector subscription key and endpoint to your environment variables.\n",
    "const key = process.env[\"API_KEY\"] || \"\";\n",
    "const endpoint = process.env[\"ENDPOINT\"] || \"\";"
   ]
  },
  {
   "cell_type": "code",
   "execution_count": 13,
   "id": "a669ad69-7c14-4b69-a25f-307816166e77",
   "metadata": {},
   "outputs": [],
   "source": [
    "//<vars>\n",
    "// Spreadsheet with 2 columns and n rows.\n",
    "let CSV_FILE = './request-data.csv';\n"
   ]
  },
  {
   "cell_type": "code",
   "execution_count": 14,
   "id": "fafc810d-b5d1-4f65-8c2b-5dff7d0e8b9d",
   "metadata": {},
   "outputs": [],
   "source": [
    "// Points array for the request body\n",
    "let points = [];\n",
    "//</vars>\n",
    "\n",
    "// <authentication>\n",
    "let anomalyDetectorClient = new AnomalyDetectorClient(endpoint, new AzureKeyCredential(key));\n",
    "// </authentication>\n"
   ]
  },
  {
   "cell_type": "code",
   "execution_count": 15,
   "id": "743d7930-9f35-4dd8-b0bb-7d2ac612097a",
   "metadata": {},
   "outputs": [],
   "source": [
    "// <readFile>\n",
    "function readFile() {\n",
    "    let input = fs.readFileSync(CSV_FILE).toString();\n",
    "    let parsed = parse(input, { skip_empty_lines: true });\n",
    "    parsed.forEach(function (e) {\n",
    "        points.push({ timestamp: new Date(e[0]), value: parseFloat(e[1]) });\n",
    "    });\n",
    "}\n",
    "readFile()\n",
    "// </readFile>\n"
   ]
  },
  {
   "cell_type": "code",
   "execution_count": 16,
   "id": "6e8958f7-6c88-408c-be75-263505358caa",
   "metadata": {},
   "outputs": [
    {
     "name": "stdout",
     "output_type": "stream",
     "text": [
      "Promise { \u001b[36m<pending>\u001b[39m }\n",
      "Batch (entire) anomaly detection):\n",
      "An anomaly was detected from the series, at row 3\n",
      "An anomaly was detected from the series, at row 18\n",
      "An anomaly was detected from the series, at row 21\n",
      "An anomaly was detected from the series, at row 22\n",
      "An anomaly was detected from the series, at row 23\n",
      "An anomaly was detected from the series, at row 24\n",
      "An anomaly was detected from the series, at row 25\n",
      "An anomaly was detected from the series, at row 28\n",
      "An anomaly was detected from the series, at row 29\n",
      "An anomaly was detected from the series, at row 30\n",
      "An anomaly was detected from the series, at row 31\n",
      "An anomaly was detected from the series, at row 32\n",
      "An anomaly was detected from the series, at row 35\n",
      "An anomaly was detected from the series, at row 44\n"
     ]
    }
   ],
   "source": [
    "\n",
    "// <batchCall>\n",
    "async function batchCall() {\n",
    "    // Create request body for API call\n",
    "    let body = { series: points, granularity: 'daily' }\n",
    "    // Make the call to detect anomalies in whole series of points\n",
    "    await anomalyDetectorClient.detectEntireSeries(body)\n",
    "        .then((response) => {\n",
    "            console.log(\"Batch (entire) anomaly detection):\")\n",
    "            for (let item = 0; item < response.isAnomaly.length; item++) {\n",
    "                if (response.isAnomaly[item]) {\n",
    "                    console.log(\"An anomaly was detected from the series, at row \" + item)\n",
    "                }\n",
    "            }\n",
    "        }).catch((error) => {\n",
    "            console.log(error)\n",
    "        })\n",
    "\n",
    "}\n",
    "batchCall()\n",
    "// </batchCall>"
   ]
  },
  {
   "cell_type": "code",
   "execution_count": 17,
   "id": "28dd262a-b505-42ac-ba09-0bdb24acc500",
   "metadata": {},
   "outputs": [
    {
     "name": "stdout",
     "output_type": "stream",
     "text": [
      "Promise { \u001b[36m<pending>\u001b[39m }\n",
      "Latest point anomaly detection:\n",
      "The latest point, in row 47, is not detected as an anomaly.\n"
     ]
    }
   ],
   "source": [
    "// <lastDetection>\n",
    "async function lastDetection() {\n",
    "\n",
    "    let body = { series: points, granularity: 'daily' }\n",
    "    // Make the call to detect anomalies in the latest point of a series\n",
    "    await anomalyDetectorClient.detectLastPoint(body)\n",
    "        .then((response) => {\n",
    "            console.log(\"Latest point anomaly detection:\")\n",
    "            if (response.isAnomaly) {\n",
    "                console.log(\"The latest point, in row \" + points.length + \", is detected as an anomaly.\")\n",
    "            } else {\n",
    "                console.log(\"The latest point, in row \" + points.length + \", is not detected as an anomaly.\")\n",
    "            }\n",
    "        }).catch((error) => {\n",
    "            console.log(error)\n",
    "        })\n",
    "}\n",
    "lastDetection()\n",
    "// </lastDetection>"
   ]
  },
  {
   "cell_type": "code",
   "execution_count": 18,
   "id": "771778fa-18c2-473c-9aaf-a8c0ecc1a348",
   "metadata": {},
   "outputs": [
    {
     "name": "stdout",
     "output_type": "stream",
     "text": [
      "Promise { \u001b[36m<pending>\u001b[39m }\n",
      "Change points were detected from the series at index:\n",
      "\u001b[33m20\u001b[39m\n",
      "\u001b[33m27\u001b[39m\n"
     ]
    }
   ],
   "source": [
    "// <changePointDetection>\n",
    "async function changePointDetection() {\n",
    "\n",
    "    let body = { series: points, granularity: 'daily' }\n",
    "    // get change point detect results\n",
    "    await anomalyDetectorClient.detectChangePoint(body)\n",
    "        .then((response) => {\n",
    "            if (\n",
    "                response.isChangePoint.some(function (changePoint) {\n",
    "                    return changePoint === true;\n",
    "                })\n",
    "            ) {\n",
    "                console.log(\"Change points were detected from the series at index:\");\n",
    "                response.isChangePoint.forEach(function (changePoint, index) {\n",
    "                    if (changePoint === true) {\n",
    "                        console.log(index);\n",
    "                    }\n",
    "                });\n",
    "            } else {\n",
    "                console.log(\"There is no change point detected from the series.\");\n",
    "            }\n",
    "        }).catch((error) => {\n",
    "            console.log(error)\n",
    "        })\n",
    "}\n",
    "// </changePointDetection>\n",
    "changePointDetection();"
   ]
  },
  {
   "cell_type": "code",
   "execution_count": null,
   "id": "8b461b86-6a2c-4b46-a4c7-d5e869aa4553",
   "metadata": {},
   "outputs": [],
   "source": []
  }
 ],
 "metadata": {
  "kernelspec": {
   "display_name": "TypeScript",
   "language": "typescript",
   "name": "tslab"
  },
  "language_info": {
   "codemirror_mode": {
    "mode": "typescript",
    "name": "javascript",
    "typescript": true
   },
   "file_extension": ".ts",
   "mimetype": "text/typescript",
   "name": "typescript",
   "version": "3.7.2"
  }
 },
 "nbformat": 4,
 "nbformat_minor": 5
}

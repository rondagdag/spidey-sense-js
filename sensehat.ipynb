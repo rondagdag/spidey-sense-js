{
 "cells": [
  {
   "cell_type": "code",
   "execution_count": 1,
   "id": "db79686c-c7dd-469b-837c-b2c8eb4aa399",
   "metadata": {},
   "outputs": [
    {
     "name": "stdout",
     "output_type": "stream",
     "text": [
      "hello\n"
     ]
    }
   ],
   "source": [
    "console.log(\"hello\");"
   ]
  },
  {
   "cell_type": "code",
   "execution_count": 2,
   "id": "abc02fe0-ac81-4722-8b9c-b47e07dfb6bd",
   "metadata": {},
   "outputs": [
    {
     "name": "stdout",
     "output_type": "stream",
     "text": [
      "Hello, tslab!\n",
      "Versions: { tslab: \u001b[32m'1.0.15'\u001b[39m, typescript: \u001b[32m'4.1.2'\u001b[39m, node: \u001b[32m'v16.2.0'\u001b[39m }\n"
     ]
    }
   ],
   "source": [
    "const tslab = require('tslab');\n",
    "console.log('Hello, tslab!')\n",
    "console.log('Versions:', tslab.versions)"
   ]
  },
  {
   "cell_type": "code",
   "execution_count": 3,
   "id": "272d42d5-5a6e-4adb-97cb-335fa6c99abb",
   "metadata": {},
   "outputs": [],
   "source": [
    "const matrix = require('node-sense-hat').Leds;"
   ]
  },
  {
   "cell_type": "code",
   "execution_count": 4,
   "id": "8626e08e-4324-4d1d-a756-e490fd6f52cf",
   "metadata": {},
   "outputs": [],
   "source": [
    "// To fill with a single color instead\n",
    "//matrix.clear([0, 0, 0]);\n",
    "matrix.clear([0, 255, 0]);"
   ]
  },
  {
   "cell_type": "code",
   "execution_count": null,
   "id": "cda72530-c2be-4803-93c3-e4284225fa75",
   "metadata": {},
   "outputs": [],
   "source": [
    "matrix.clear([0, 0, 0]);"
   ]
  },
  {
   "cell_type": "code",
   "execution_count": 5,
   "id": "f98dc77d-e901-4ca0-ad5c-491e30ea00c9",
   "metadata": {},
   "outputs": [
    {
     "name": "stdout",
     "output_type": "stream",
     "text": [
      "Accelleration is:  {\n",
      "  \"x\": -0.011711999773979187,\n",
      "  \"y\": 0.1320039927959442,\n",
      "  \"z\": 1.3149160146713257\n",
      "}\n",
      "Gyroscope is:  {\n",
      "  \"x\": -0.1713477075099945,\n",
      "  \"y\": 0.05100724846124649,\n",
      "  \"z\": 0.04459316283464432\n",
      "}\n",
      "Compass is:  {\n",
      "  \"x\": 2.9204001426696777,\n",
      "  \"y\": 5.608400344848633,\n",
      "  \"z\": 11.03760051727295\n",
      "}\n",
      "Fusion data is:  {\n",
      "  \"x\": 0.10005445778369904,\n",
      "  \"y\": 0.008862254209816456,\n",
      "  \"z\": -0.9770402908325195\n",
      "}\n",
      "Temp is:  \u001b[33m24.692646026611328\u001b[39m\n",
      "Pressure is:  \u001b[33m969.5498046875\u001b[39m\n",
      "Humidity is:  \u001b[33m69.37545776367188\u001b[39m\n"
     ]
    }
   ],
   "source": [
    "const imu = require(\"node-sense-hat\").Imu;\n",
    "\n",
    "const IMU = new imu.IMU();\n",
    "\n",
    "function displayValue(err, data) {\n",
    "  if (err !== null) {\n",
    "    console.error(\"Could not read sensor data: \", err);\n",
    "    return;\n",
    "  }\n",
    "\n",
    "  console.log(\"Accelleration is: \", JSON.stringify(data.accel, null, \"  \"));\n",
    "  console.log(\"Gyroscope is: \", JSON.stringify(data.gyro, null, \"  \"));\n",
    "  console.log(\"Compass is: \", JSON.stringify(data.compass, null, \"  \"));\n",
    "  console.log(\"Fusion data is: \", JSON.stringify(data.fusionPose, null, \"  \"));\n",
    "  \n",
    "\n",
    "  console.log(\"Temp is: \", data.temperature);\n",
    "  console.log(\"Pressure is: \", data.pressure);\n",
    "  console.log(\"Humidity is: \", data.humidity);\n",
    "  \n",
    "};\n",
    "IMU.getValue(displayValue);"
   ]
  },
  {
   "cell_type": "code",
   "execution_count": 6,
   "id": "da1faa1e-8536-45b3-bce7-b92325517f70",
   "metadata": {},
   "outputs": [
    {
     "name": "stdout",
     "output_type": "stream",
     "text": [
      "Accelleration is:  {\n",
      "  \"x\": -0.008539999835193157,\n",
      "  \"y\": 0.13102799654006958,\n",
      "  \"z\": 0.9781959652900696\n",
      "}\n",
      "Gyroscope is:  {\n",
      "  \"x\": 0.006108652334660292,\n",
      "  \"y\": 0.005192354787141085,\n",
      "  \"z\": 0.02474004216492176\n",
      "}\n",
      "Compass is:  {\n",
      "  \"x\": 5.088720321655273,\n",
      "  \"y\": 9.899120330810547,\n",
      "  \"z\": 19.56808090209961\n",
      "}\n",
      "Fusion data is:  {\n",
      "  \"x\": 0.1045319214463234,\n",
      "  \"y\": 0.01045367494225502,\n",
      "  \"z\": -0.9611996412277222\n",
      "}\n",
      "Temp is:  \u001b[33m24.657352447509766\u001b[39m\n",
      "Pressure is:  \u001b[33m969.60595703125\u001b[39m\n",
      "Humidity is:  \u001b[33m70.21825408935547\u001b[39m\n"
     ]
    }
   ],
   "source": [
    "IMU.getValue(displayValue);"
   ]
  },
  {
   "cell_type": "code",
   "execution_count": 7,
   "id": "38715ce3-0568-4b28-b58c-6111f0d58c36",
   "metadata": {},
   "outputs": [],
   "source": [
    "interface Entry {\n",
    "   timestamp: Date;\n",
    "   value: number;\n",
    "}\n",
    "\n",
    "var points = Array<Entry>();"
   ]
  },
  {
   "cell_type": "code",
   "execution_count": 8,
   "id": "0a638212-ba47-4ab5-a9e5-97a5098cc983",
   "metadata": {},
   "outputs": [],
   "source": [
    "\n",
    "\n",
    "function addToArray(err, data) {\n",
    "  if (err !== null) {\n",
    "    console.error(\"Could not read sensor data: \", err);\n",
    "    return;\n",
    "  }\n",
    "    \n",
    "    var coeff = 1000 * 60 * 1;\n",
    "    var date = new Date();  //or use any other date\n",
    "    var rounded = new Date(Math.round(date.getTime() / coeff) * coeff);\n",
    "    let entry = { timestamp: rounded, value: data.temperature } as Entry;\n",
    "    points.push(entry);\n",
    "};"
   ]
  },
  {
   "cell_type": "code",
   "execution_count": 9,
   "id": "0265176d-467a-4c62-878f-31d4f9d14638",
   "metadata": {},
   "outputs": [],
   "source": [
    "IMU.getValue(addToArray);"
   ]
  },
  {
   "cell_type": "code",
   "execution_count": 24,
   "id": "e7299ca7-31c2-407c-ae3c-cb9e82c90d40",
   "metadata": {},
   "outputs": [
    {
     "name": "stdout",
     "output_type": "stream",
     "text": [
      "[\n",
      "  { timestamp: \u001b[35m2022-04-07T01:07:00.000Z\u001b[39m, value: \u001b[33m26.192646026611328\u001b[39m },\n",
      "  { timestamp: \u001b[35m2022-04-07T01:08:00.000Z\u001b[39m, value: \u001b[33m27.05735206604004\u001b[39m },\n",
      "  { timestamp: \u001b[35m2022-04-07T01:09:00.000Z\u001b[39m, value: \u001b[33m27.816177368164062\u001b[39m },\n",
      "  { timestamp: \u001b[35m2022-04-07T01:10:00.000Z\u001b[39m, value: \u001b[33m28.398529052734375\u001b[39m },\n",
      "  { timestamp: \u001b[35m2022-04-07T01:11:00.000Z\u001b[39m, value: \u001b[33m28.804410934448242\u001b[39m },\n",
      "  { timestamp: \u001b[35m2022-04-07T01:12:00.000Z\u001b[39m, value: \u001b[33m29.351470947265625\u001b[39m },\n",
      "  { timestamp: \u001b[35m2022-04-07T01:13:00.000Z\u001b[39m, value: \u001b[33m29.598529815673828\u001b[39m },\n",
      "  { timestamp: \u001b[35m2022-04-07T01:14:00.000Z\u001b[39m, value: \u001b[33m29.84558868408203\u001b[39m },\n",
      "  { timestamp: \u001b[35m2022-04-07T01:15:00.000Z\u001b[39m, value: \u001b[33m30.233823776245117\u001b[39m },\n",
      "  { timestamp: \u001b[35m2022-04-07T01:16:00.000Z\u001b[39m, value: \u001b[33m30.48088264465332\u001b[39m },\n",
      "  { timestamp: \u001b[35m2022-04-07T01:17:00.000Z\u001b[39m, value: \u001b[33m30.674999237060547\u001b[39m },\n",
      "  { timestamp: \u001b[35m2022-04-07T01:18:00.000Z\u001b[39m, value: \u001b[33m30.851470947265625\u001b[39m },\n",
      "  { timestamp: \u001b[35m2022-04-07T01:19:00.000Z\u001b[39m, value: \u001b[33m31.01029396057129\u001b[39m },\n",
      "  { timestamp: \u001b[35m2022-04-07T01:20:00.000Z\u001b[39m, value: \u001b[33m31.186763763427734\u001b[39m }\n",
      "]\n"
     ]
    }
   ],
   "source": [
    "points"
   ]
  },
  {
   "cell_type": "code",
   "execution_count": 11,
   "id": "9e21b96e-9c16-4130-b24e-32d10250f4be",
   "metadata": {},
   "outputs": [
    {
     "name": "stdout",
     "output_type": "stream",
     "text": [
      "[]\n"
     ]
    }
   ],
   "source": [
    "points = []"
   ]
  },
  {
   "cell_type": "code",
   "execution_count": 12,
   "id": "a639c6ce-fb5a-4bf2-849a-1f13fb94f560",
   "metadata": {},
   "outputs": [],
   "source": [
    "let timerID = setInterval(function() {\n",
    "    IMU.getValue(addToArray);\n",
    "}, 60 * 1000); \n"
   ]
  },
  {
   "cell_type": "code",
   "execution_count": 13,
   "id": "139bfc57-f534-4e87-8bac-a31b684d6da1",
   "metadata": {},
   "outputs": [],
   "source": [
    "let timeout = setTimeout(() => { clearInterval(timerID); console.log(points); }, 15 * 60 * 1000);\n",
    " // The setInterval it cleared and doesn't run anymore."
   ]
  },
  {
   "cell_type": "code",
   "execution_count": 14,
   "id": "d19f027a-4d72-4086-81ea-d6d2a7ca724c",
   "metadata": {},
   "outputs": [],
   "source": [
    "//clearInterval(timerID);"
   ]
  },
  {
   "cell_type": "code",
   "execution_count": 31,
   "id": "2cc62ecf-138d-406c-9e6c-67d170e8db5d",
   "metadata": {},
   "outputs": [
    {
     "name": "stdout",
     "output_type": "stream",
     "text": [
      "[\n",
      "  { timestamp: \u001b[35m2022-04-07T01:07:00.000Z\u001b[39m, value: \u001b[33m26.192646026611328\u001b[39m },\n",
      "  { timestamp: \u001b[35m2022-04-07T01:08:00.000Z\u001b[39m, value: \u001b[33m27.05735206604004\u001b[39m },\n",
      "  { timestamp: \u001b[35m2022-04-07T01:09:00.000Z\u001b[39m, value: \u001b[33m27.816177368164062\u001b[39m },\n",
      "  { timestamp: \u001b[35m2022-04-07T01:10:00.000Z\u001b[39m, value: \u001b[33m28.398529052734375\u001b[39m },\n",
      "  { timestamp: \u001b[35m2022-04-07T01:11:00.000Z\u001b[39m, value: \u001b[33m28.804410934448242\u001b[39m },\n",
      "  { timestamp: \u001b[35m2022-04-07T01:12:00.000Z\u001b[39m, value: \u001b[33m29.351470947265625\u001b[39m },\n",
      "  { timestamp: \u001b[35m2022-04-07T01:13:00.000Z\u001b[39m, value: \u001b[33m29.598529815673828\u001b[39m },\n",
      "  { timestamp: \u001b[35m2022-04-07T01:14:00.000Z\u001b[39m, value: \u001b[33m29.84558868408203\u001b[39m },\n",
      "  { timestamp: \u001b[35m2022-04-07T01:15:00.000Z\u001b[39m, value: \u001b[33m30.233823776245117\u001b[39m },\n",
      "  { timestamp: \u001b[35m2022-04-07T01:16:00.000Z\u001b[39m, value: \u001b[33m30.48088264465332\u001b[39m },\n",
      "  { timestamp: \u001b[35m2022-04-07T01:17:00.000Z\u001b[39m, value: \u001b[33m30.674999237060547\u001b[39m },\n",
      "  { timestamp: \u001b[35m2022-04-07T01:18:00.000Z\u001b[39m, value: \u001b[33m30.851470947265625\u001b[39m },\n",
      "  { timestamp: \u001b[35m2022-04-07T01:19:00.000Z\u001b[39m, value: \u001b[33m31.01029396057129\u001b[39m },\n",
      "  { timestamp: \u001b[35m2022-04-07T01:20:00.000Z\u001b[39m, value: \u001b[33m31.186763763427734\u001b[39m },\n",
      "  { timestamp: \u001b[35m2022-04-07T01:21:00.000Z\u001b[39m, value: \u001b[33m31.23970603942871\u001b[39m }\n",
      "]\n"
     ]
    }
   ],
   "source": [
    "points"
   ]
  },
  {
   "cell_type": "code",
   "execution_count": 32,
   "id": "27c2692b-cbe7-48ed-817b-4298b3c0b27d",
   "metadata": {},
   "outputs": [],
   "source": [
    "/*points = [\n",
    "  { timestamp: new Date('2022-04-07T01:07:00.000Z'), value: 26.192646026611328 },\n",
    "  { timestamp: new Date('2022-04-07T01:08:00.000Z'), value: 27.05735206604004 },\n",
    "  { timestamp: new Date('2022-04-07T01:09:00.000Z'), value: 27.816177368164062 },\n",
    "  { timestamp: new Date('2022-04-07T01:10:00.000Z'), value: 28.398529052734375 },\n",
    "  { timestamp: new Date('2022-04-07T01:11:00.000Z'), value: 28.804410934448242 },\n",
    "  { timestamp: new Date('2022-04-07T01:12:00.000Z'), value: 29.351470947265625 },\n",
    "  { timestamp: new Date('2022-04-07T01:13:00.000Z'), value: 29.598529815673828 },\n",
    "  { timestamp: new Date('2022-04-07T01:14:00.000Z'), value: 29.84558868408203 },\n",
    "  { timestamp: new Date('2022-04-07T01:15:00.000Z'), value: 30.233823776245117 },\n",
    "  { timestamp: new Date('2022-04-07T01:16:00.000Z'), value: 30.48088264465332 },\n",
    "  { timestamp: new Date('2022-04-07T01:17:00.000Z'), value: 30.674999237060547 },\n",
    "  { timestamp: new Date('2022-04-07T01:18:00.000Z'), value: 30.851470947265625 },\n",
    "  { timestamp: new Date('2022-04-07T01:19:00.000Z'), value: 31.01029396057129 },\n",
    "  { timestamp: new Date('2022-04-07T01:20:00.000Z'), value: 31.186763763427734 },\n",
    "  { timestamp: new Date('2022-04-07T01:21:00.000Z'), value: 31.23970603942871 }\n",
    "]*/"
   ]
  },
  {
   "cell_type": "markdown",
   "id": "9e2c985d-b83e-45d1-8de4-a5918a2b6c07",
   "metadata": {},
   "source": [
    "Wait for 15 minutes before continuing ...."
   ]
  },
  {
   "cell_type": "code",
   "execution_count": 33,
   "id": "50111629-1385-4488-b9fa-59404569affa",
   "metadata": {},
   "outputs": [],
   "source": [
    "const fs = require('fs');\n",
    "const parse = require(\"csv-parse/lib/sync\");\n",
    "const { AnomalyDetectorClient } = require('@azure/ai-anomaly-detector');\n",
    "const { AzureKeyCredential } = require('@azure/core-auth');"
   ]
  },
  {
   "cell_type": "markdown",
   "id": "89e617fe-3061-47e6-a3f5-91a266dc4ab1",
   "metadata": {},
   "source": [
    "To create a cognitive services service and get the key\n",
    "you need need to install Azure CLI and an active Azure Subscription\n",
    "https://docs.microsoft.com/en-us/cli/azure/install-azure-cli\n",
    "\n",
    "```\n",
    "\n",
    "az group create \\\n",
    "    --name cognitive-services-resource-group \\\n",
    "    --location westus2\n",
    "    \n",
    "az cognitiveservices account create \\\n",
    "    --name anomaly-detector-resource \\\n",
    "    --resource-group cognitive-services-resource-group \\\n",
    "    --kind AnomalyDetector \\\n",
    "    --sku F0 \\\n",
    "    --location westus2 \\\n",
    "    --yes\n",
    "\n",
    "az cognitiveservices account keys list \\\n",
    "    --name anomaly-detector-resource \\\n",
    "    --resource-group cognitive-services-resource-group\n",
    "```"
   ]
  },
  {
   "cell_type": "code",
   "execution_count": 34,
   "id": "e945e40c-84a4-4a66-b8ad-f1bf14d4ebcd",
   "metadata": {},
   "outputs": [],
   "source": [
    "const dotenv = require(\"dotenv\");\n",
    "dotenv.config();\n",
    "// Authentication variables\n",
    "// Add your Anomaly Detector subscription key and endpoint to your environment variables.\n",
    "const key = process.env[\"API_KEY\"] || \"\";\n",
    "const endpoint = process.env[\"ENDPOINT\"] || \"\";"
   ]
  },
  {
   "cell_type": "code",
   "execution_count": 35,
   "id": "ddc5d1c9-d7a8-4fdd-863c-7e6b0f74ae1f",
   "metadata": {},
   "outputs": [],
   "source": [
    "// <authentication>\n",
    "let anomalyDetectorClient = new AnomalyDetectorClient(endpoint, new AzureKeyCredential(key));\n",
    "// </authentication>"
   ]
  },
  {
   "cell_type": "code",
   "execution_count": 36,
   "id": "a76319ed-b344-4d19-a4c2-0c1df7bc17fa",
   "metadata": {},
   "outputs": [
    {
     "name": "stdout",
     "output_type": "stream",
     "text": [
      "Latest point anomaly detection:\n",
      "The latest point, in row 15, is not detected as an anomaly.\n",
      "\u001b[33mfalse\u001b[39m\n"
     ]
    }
   ],
   "source": [
    "// <lastDetection>\n",
    "async function lastDetection(pts) : Promise<boolean> {\n",
    "\n",
    "    let body = { series: pts, granularity: 'minutely' }\n",
    "    // Make the call to detect anomalies in the latest point of a series\n",
    "    return await anomalyDetectorClient.detectLastPoint(body)\n",
    "        .then((response) => {\n",
    "            console.log(\"Latest point anomaly detection:\")\n",
    "            if (response.isAnomaly) {\n",
    "                console.log(\"The latest point, in row \" + points.length + \", is detected as an anomaly.\")\n",
    "                return true;\n",
    "            } else {\n",
    "                console.log(\"The latest point, in row \" + points.length + \", is not detected as an anomaly.\")\n",
    "                return false;\n",
    "            }\n",
    "        }).catch((error) => {\n",
    "            console.log(error)\n",
    "            return false;\n",
    "        })\n",
    "}\n",
    "console.log(await lastDetection(points));\n",
    "// </lastDetection>"
   ]
  },
  {
   "cell_type": "code",
   "execution_count": 37,
   "id": "60e4915d-384f-481c-8c46-653f4ceed717",
   "metadata": {},
   "outputs": [
    {
     "name": "stdout",
     "output_type": "stream",
     "text": [
      "[\n",
      "  { timestamp: \u001b[32m'2022-04-07T01:07:00.000Z'\u001b[39m, value: \u001b[33m26.192646026611328\u001b[39m },\n",
      "  { timestamp: \u001b[32m'2022-04-07T01:08:00.000Z'\u001b[39m, value: \u001b[33m27.05735206604004\u001b[39m },\n",
      "  { timestamp: \u001b[32m'2022-04-07T01:09:00.000Z'\u001b[39m, value: \u001b[33m27.816177368164062\u001b[39m },\n",
      "  { timestamp: \u001b[32m'2022-04-07T01:10:00.000Z'\u001b[39m, value: \u001b[33m28.398529052734375\u001b[39m },\n",
      "  { timestamp: \u001b[32m'2022-04-07T01:11:00.000Z'\u001b[39m, value: \u001b[33m28.804410934448242\u001b[39m },\n",
      "  { timestamp: \u001b[32m'2022-04-07T01:12:00.000Z'\u001b[39m, value: \u001b[33m29.351470947265625\u001b[39m },\n",
      "  { timestamp: \u001b[32m'2022-04-07T01:13:00.000Z'\u001b[39m, value: \u001b[33m29.598529815673828\u001b[39m },\n",
      "  { timestamp: \u001b[32m'2022-04-07T01:14:00.000Z'\u001b[39m, value: \u001b[33m29.84558868408203\u001b[39m },\n",
      "  { timestamp: \u001b[32m'2022-04-07T01:15:00.000Z'\u001b[39m, value: \u001b[33m30.233823776245117\u001b[39m },\n",
      "  { timestamp: \u001b[32m'2022-04-07T01:16:00.000Z'\u001b[39m, value: \u001b[33m30.48088264465332\u001b[39m },\n",
      "  { timestamp: \u001b[32m'2022-04-07T01:17:00.000Z'\u001b[39m, value: \u001b[33m30.674999237060547\u001b[39m },\n",
      "  { timestamp: \u001b[32m'2022-04-07T01:18:00.000Z'\u001b[39m, value: \u001b[33m30.851470947265625\u001b[39m },\n",
      "  { timestamp: \u001b[32m'2022-04-07T01:19:00.000Z'\u001b[39m, value: \u001b[33m31.01029396057129\u001b[39m },\n",
      "  { timestamp: \u001b[32m'2022-04-07T01:20:00.000Z'\u001b[39m, value: \u001b[33m31.186763763427734\u001b[39m },\n",
      "  { timestamp: \u001b[32m'2022-04-07T01:21:00.000Z'\u001b[39m, value: \u001b[33m31.23970603942871\u001b[39m }\n",
      "]\n"
     ]
    }
   ],
   "source": [
    "let newpoints = JSON.parse(JSON.stringify(points));\n",
    "newpoints"
   ]
  },
  {
   "cell_type": "code",
   "execution_count": 38,
   "id": "6fb37bf4-b20e-4af7-884d-ad61c3a373d6",
   "metadata": {},
   "outputs": [],
   "source": [
    "let lastItem = newpoints[newpoints.length - 1]\n",
    "//let entry = { timestamp: rounded, value: data.temperature } as Entry;\n",
    "//points.push(entry);"
   ]
  },
  {
   "cell_type": "code",
   "execution_count": 39,
   "id": "05699e51-c51f-4466-9153-38638854f6f9",
   "metadata": {},
   "outputs": [
    {
     "name": "stdout",
     "output_type": "stream",
     "text": [
      "{ timestamp: \u001b[32m'2022-04-07T01:21:00.000Z'\u001b[39m, value: \u001b[33m31.23970603942871\u001b[39m }\n"
     ]
    }
   ],
   "source": [
    "lastItem"
   ]
  },
  {
   "cell_type": "code",
   "execution_count": 40,
   "id": "1684c1e3-b0b3-4a81-b509-992c93b57ab8",
   "metadata": {},
   "outputs": [],
   "source": [
    "//lastItem.timestamp.setTime(lastItem.timestamp.getTime() + 1000 * 60);"
   ]
  },
  {
   "cell_type": "code",
   "execution_count": 41,
   "id": "7e3775e4-7d28-42c5-a4b6-954c7e6933d8",
   "metadata": {},
   "outputs": [
    {
     "name": "stdout",
     "output_type": "stream",
     "text": [
      "\u001b[33m131.2397060394287\u001b[39m\n"
     ]
    }
   ],
   "source": [
    "lastItem.value = lastItem.value + 100;"
   ]
  },
  {
   "cell_type": "code",
   "execution_count": 42,
   "id": "dca32944-dbac-454a-a28b-e4f74db97669",
   "metadata": {},
   "outputs": [
    {
     "name": "stdout",
     "output_type": "stream",
     "text": [
      "[\n",
      "  { timestamp: \u001b[32m'2022-04-07T01:07:00.000Z'\u001b[39m, value: \u001b[33m26.192646026611328\u001b[39m },\n",
      "  { timestamp: \u001b[32m'2022-04-07T01:08:00.000Z'\u001b[39m, value: \u001b[33m27.05735206604004\u001b[39m },\n",
      "  { timestamp: \u001b[32m'2022-04-07T01:09:00.000Z'\u001b[39m, value: \u001b[33m27.816177368164062\u001b[39m },\n",
      "  { timestamp: \u001b[32m'2022-04-07T01:10:00.000Z'\u001b[39m, value: \u001b[33m28.398529052734375\u001b[39m },\n",
      "  { timestamp: \u001b[32m'2022-04-07T01:11:00.000Z'\u001b[39m, value: \u001b[33m28.804410934448242\u001b[39m },\n",
      "  { timestamp: \u001b[32m'2022-04-07T01:12:00.000Z'\u001b[39m, value: \u001b[33m29.351470947265625\u001b[39m },\n",
      "  { timestamp: \u001b[32m'2022-04-07T01:13:00.000Z'\u001b[39m, value: \u001b[33m29.598529815673828\u001b[39m },\n",
      "  { timestamp: \u001b[32m'2022-04-07T01:14:00.000Z'\u001b[39m, value: \u001b[33m29.84558868408203\u001b[39m },\n",
      "  { timestamp: \u001b[32m'2022-04-07T01:15:00.000Z'\u001b[39m, value: \u001b[33m30.233823776245117\u001b[39m },\n",
      "  { timestamp: \u001b[32m'2022-04-07T01:16:00.000Z'\u001b[39m, value: \u001b[33m30.48088264465332\u001b[39m },\n",
      "  { timestamp: \u001b[32m'2022-04-07T01:17:00.000Z'\u001b[39m, value: \u001b[33m30.674999237060547\u001b[39m },\n",
      "  { timestamp: \u001b[32m'2022-04-07T01:18:00.000Z'\u001b[39m, value: \u001b[33m30.851470947265625\u001b[39m },\n",
      "  { timestamp: \u001b[32m'2022-04-07T01:19:00.000Z'\u001b[39m, value: \u001b[33m31.01029396057129\u001b[39m },\n",
      "  { timestamp: \u001b[32m'2022-04-07T01:20:00.000Z'\u001b[39m, value: \u001b[33m31.186763763427734\u001b[39m },\n",
      "  { timestamp: \u001b[32m'2022-04-07T01:21:00.000Z'\u001b[39m, value: \u001b[33m131.2397060394287\u001b[39m }\n",
      "]\n"
     ]
    }
   ],
   "source": [
    "newpoints"
   ]
  },
  {
   "cell_type": "code",
   "execution_count": 43,
   "id": "4022313d-839b-4464-971c-6be393c2d918",
   "metadata": {},
   "outputs": [],
   "source": [
    "const O = [0, 0, 0];\n",
    "const X = [255, 0, 0];\n",
    "\n",
    "const cross = [\n",
    "\tX, O, O, O, O, O, O, X,\n",
    "\tO, X, O, O, O, O, X, O,\n",
    "\tO, O, X, O, O, X, O, O,\n",
    "\tO, O, O, X, X, O, O, O,\n",
    "\tO, O, O, X, X, O, O, O,\n",
    "\tO, O, X, O, O, X, O, O,\n",
    "\tO, X, O, O, O, O, X, O,\n",
    "\tX, O, O, O, O, O, O, X,\n",
    "];\n"
   ]
  },
  {
   "cell_type": "code",
   "execution_count": 44,
   "id": "ce751bc4-97c0-4aa1-b0f8-6c9be334e896",
   "metadata": {},
   "outputs": [
    {
     "name": "stdout",
     "output_type": "stream",
     "text": [
      "Latest point anomaly detection:\n",
      "The latest point, in row 15, is detected as an anomaly.\n"
     ]
    }
   ],
   "source": [
    "let result = await lastDetection(newpoints);\n",
    "if (result)\n",
    "{\n",
    "    matrix.setPixels(cross);\n",
    "}"
   ]
  },
  {
   "cell_type": "code",
   "execution_count": 45,
   "id": "25c02c8a-c454-467d-8af3-5daa3c593100",
   "metadata": {},
   "outputs": [],
   "source": [
    "matrix.clear([0, 0, 0]);"
   ]
  },
  {
   "cell_type": "code",
   "execution_count": null,
   "id": "568840d3-0b0e-4665-878b-d32dc2365ff0",
   "metadata": {},
   "outputs": [],
   "source": []
  },
  {
   "cell_type": "code",
   "execution_count": null,
   "id": "fa561742-9298-4937-9e7f-1b3582f690fd",
   "metadata": {},
   "outputs": [],
   "source": []
  }
 ],
 "metadata": {
  "kernelspec": {
   "display_name": "TypeScript",
   "language": "typescript",
   "name": "tslab"
  },
  "language_info": {
   "codemirror_mode": {
    "mode": "typescript",
    "name": "javascript",
    "typescript": true
   },
   "file_extension": ".ts",
   "mimetype": "text/typescript",
   "name": "typescript",
   "version": "3.7.2"
  }
 },
 "nbformat": 4,
 "nbformat_minor": 5
}

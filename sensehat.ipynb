{
 "cells": [
  {
   "cell_type": "code",
   "execution_count": 1,
   "id": "db79686c-c7dd-469b-837c-b2c8eb4aa399",
   "metadata": {},
   "outputs": [
    {
     "name": "stdout",
     "output_type": "stream",
     "text": [
      "hello\n"
     ]
    }
   ],
   "source": [
    "console.log(\"hello\");"
   ]
  },
  {
   "cell_type": "code",
   "execution_count": 2,
   "id": "abc02fe0-ac81-4722-8b9c-b47e07dfb6bd",
   "metadata": {},
   "outputs": [
    {
     "name": "stdout",
     "output_type": "stream",
     "text": [
      "Hello, tslab!\n",
      "Versions: { tslab: \u001b[32m'1.0.15'\u001b[39m, typescript: \u001b[32m'4.1.2'\u001b[39m, node: \u001b[32m'v16.2.0'\u001b[39m }\n"
     ]
    }
   ],
   "source": [
    "const tslab = require('tslab');\n",
    "console.log('Hello, tslab!')\n",
    "console.log('Versions:', tslab.versions)"
   ]
  },
  {
   "cell_type": "code",
   "execution_count": 3,
   "id": "272d42d5-5a6e-4adb-97cb-335fa6c99abb",
   "metadata": {},
   "outputs": [],
   "source": [
    "const matrix = require('node-sense-hat').Leds;"
   ]
  },
  {
   "cell_type": "code",
   "execution_count": 4,
   "id": "8626e08e-4324-4d1d-a756-e490fd6f52cf",
   "metadata": {},
   "outputs": [],
   "source": [
    "// To fill with a single color instead\n",
    "matrix.clear([0, 1, 0]);"
   ]
  },
  {
   "cell_type": "code",
   "execution_count": 5,
   "id": "f98dc77d-e901-4ca0-ad5c-491e30ea00c9",
   "metadata": {},
   "outputs": [
    {
     "name": "stdout",
     "output_type": "stream",
     "text": [
      "Accelleration is:  {\n",
      "  \"x\": 0.07807999849319458,\n",
      "  \"y\": -0.07002799957990646,\n",
      "  \"z\": 0.9864919781684875\n",
      "}\n",
      "Gyroscope is:  {\n",
      "  \"x\": 0.01618792861700058,\n",
      "  \"y\": 0.004581489134579897,\n",
      "  \"z\": 0.018936822190880775\n",
      "}\n",
      "Compass is:  {\n",
      "  \"x\": 2.2260000705718994,\n",
      "  \"y\": 2.069200277328491,\n",
      "  \"z\": 12.241600036621094\n",
      "}\n",
      "Fusion data is:  {\n",
      "  \"x\": -0.07086800783872604,\n",
      "  \"y\": -0.07878704369068146,\n",
      "  \"z\": -1.1620200872421265\n",
      "}\n",
      "Temp is:  \u001b[33m39.39264678955078\u001b[39m\n",
      "Pressure is:  \u001b[33m1000.621826171875\u001b[39m\n",
      "Humidity is:  \u001b[33m36.413307189941406\u001b[39m\n"
     ]
    }
   ],
   "source": [
    "const imu = require(\"node-sense-hat\").Imu;\n",
    "\n",
    "const IMU = new imu.IMU();\n",
    "\n",
    "function displayValue(err, data) {\n",
    "  if (err !== null) {\n",
    "    console.error(\"Could not read sensor data: \", err);\n",
    "    return;\n",
    "  }\n",
    "\n",
    "  console.log(\"Accelleration is: \", JSON.stringify(data.accel, null, \"  \"));\n",
    "  console.log(\"Gyroscope is: \", JSON.stringify(data.gyro, null, \"  \"));\n",
    "  console.log(\"Compass is: \", JSON.stringify(data.compass, null, \"  \"));\n",
    "  console.log(\"Fusion data is: \", JSON.stringify(data.fusionPose, null, \"  \"));\n",
    "  \n",
    "\n",
    "  console.log(\"Temp is: \", data.temperature);\n",
    "  console.log(\"Pressure is: \", data.pressure);\n",
    "  console.log(\"Humidity is: \", data.humidity);\n",
    "  \n",
    "};\n",
    "IMU.getValue(displayValue);"
   ]
  },
  {
   "cell_type": "code",
   "execution_count": 6,
   "id": "38715ce3-0568-4b28-b58c-6111f0d58c36",
   "metadata": {},
   "outputs": [],
   "source": [
    "interface Entry {\n",
    "   timestamp: Date;\n",
    "   value: number;\n",
    "}\n",
    "\n",
    "var points = Array<Entry>();"
   ]
  },
  {
   "cell_type": "code",
   "execution_count": 7,
   "id": "0a638212-ba47-4ab5-a9e5-97a5098cc983",
   "metadata": {},
   "outputs": [],
   "source": [
    "\n",
    "\n",
    "function addToArray(err, data) {\n",
    "  if (err !== null) {\n",
    "    console.error(\"Could not read sensor data: \", err);\n",
    "    return;\n",
    "  }\n",
    "    \n",
    "    var coeff = 1000 * 60 * 1;\n",
    "    var date = new Date();  //or use any other date\n",
    "    var rounded = new Date(Math.round(date.getTime() / coeff) * coeff);\n",
    "    let entry = { timestamp: rounded, value: data.temperature } as Entry;\n",
    "    points.push(entry);\n",
    "};"
   ]
  },
  {
   "cell_type": "code",
   "execution_count": 8,
   "id": "0265176d-467a-4c62-878f-31d4f9d14638",
   "metadata": {},
   "outputs": [],
   "source": [
    "IMU.getValue(addToArray);"
   ]
  },
  {
   "cell_type": "code",
   "execution_count": 9,
   "id": "e7299ca7-31c2-407c-ae3c-cb9e82c90d40",
   "metadata": {},
   "outputs": [
    {
     "name": "stdout",
     "output_type": "stream",
     "text": [
      "[ { timestamp: \u001b[35m2021-05-21T16:06:00.000Z\u001b[39m, value: \u001b[33m39.35735321044922\u001b[39m } ]\n"
     ]
    }
   ],
   "source": [
    "points"
   ]
  },
  {
   "cell_type": "code",
   "execution_count": 10,
   "id": "9e21b96e-9c16-4130-b24e-32d10250f4be",
   "metadata": {},
   "outputs": [
    {
     "name": "stdout",
     "output_type": "stream",
     "text": [
      "[]\n"
     ]
    }
   ],
   "source": [
    "points = []"
   ]
  },
  {
   "cell_type": "code",
   "execution_count": 11,
   "id": "a639c6ce-fb5a-4bf2-849a-1f13fb94f560",
   "metadata": {},
   "outputs": [],
   "source": [
    "let timerID = setInterval(function() {\n",
    "    IMU.getValue(addToArray);\n",
    "}, 60 * 1000); \n"
   ]
  },
  {
   "cell_type": "code",
   "execution_count": 12,
   "id": "139bfc57-f534-4e87-8bac-a31b684d6da1",
   "metadata": {},
   "outputs": [],
   "source": [
    "let timeout = setTimeout(() => { clearInterval(timerID); console.log(points); }, 15 * 60 * 1000);\n",
    " // The setInterval it cleared and doesn't run anymore."
   ]
  },
  {
   "cell_type": "code",
   "execution_count": 13,
   "id": "d19f027a-4d72-4086-81ea-d6d2a7ca724c",
   "metadata": {},
   "outputs": [],
   "source": [
    "//clearInterval(timerID);"
   ]
  },
  {
   "cell_type": "code",
   "execution_count": 20,
   "id": "2cc62ecf-138d-406c-9e6c-67d170e8db5d",
   "metadata": {},
   "outputs": [
    {
     "name": "stdout",
     "output_type": "stream",
     "text": [
      "[\n",
      "  { timestamp: \u001b[35m2021-05-21T16:08:00.000Z\u001b[39m, value: \u001b[33m39.49852752685547\u001b[39m },\n",
      "  { timestamp: \u001b[35m2021-05-21T16:09:00.000Z\u001b[39m, value: \u001b[33m39.60441207885742\u001b[39m }\n",
      "]\n",
      "[\n",
      "  { timestamp: \u001b[35m2021-05-21T16:08:00.000Z\u001b[39m, value: \u001b[33m39.49852752685547\u001b[39m },\n",
      "  { timestamp: \u001b[35m2021-05-21T16:09:00.000Z\u001b[39m, value: \u001b[33m39.60441207885742\u001b[39m },\n",
      "  { timestamp: \u001b[35m2021-05-21T16:10:00.000Z\u001b[39m, value: \u001b[33m39.67500305175781\u001b[39m },\n",
      "  { timestamp: \u001b[35m2021-05-21T16:11:00.000Z\u001b[39m, value: \u001b[33m39.56911849975586\u001b[39m },\n",
      "  { timestamp: \u001b[35m2021-05-21T16:12:00.000Z\u001b[39m, value: \u001b[33m39.41029357910156\u001b[39m },\n",
      "  { timestamp: \u001b[35m2021-05-21T16:13:00.000Z\u001b[39m, value: \u001b[33m39.21617889404297\u001b[39m },\n",
      "  { timestamp: \u001b[35m2021-05-21T16:14:00.000Z\u001b[39m, value: \u001b[33m38.72206115722656\u001b[39m },\n",
      "  { timestamp: \u001b[35m2021-05-21T16:15:00.000Z\u001b[39m, value: \u001b[33m38.52793884277344\u001b[39m },\n",
      "  { timestamp: \u001b[35m2021-05-21T16:16:00.000Z\u001b[39m, value: \u001b[33m38.369117736816406\u001b[39m },\n",
      "  { timestamp: \u001b[35m2021-05-21T16:17:00.000Z\u001b[39m, value: \u001b[33m38.40441131591797\u001b[39m },\n",
      "  { timestamp: \u001b[35m2021-05-21T16:18:00.000Z\u001b[39m, value: \u001b[33m38.38676452636719\u001b[39m },\n",
      "  { timestamp: \u001b[35m2021-05-21T16:19:00.000Z\u001b[39m, value: \u001b[33m38.86323547363281\u001b[39m },\n",
      "  { timestamp: \u001b[35m2021-05-21T16:20:00.000Z\u001b[39m, value: \u001b[33m38.95146942138672\u001b[39m },\n",
      "  { timestamp: \u001b[35m2021-05-21T16:21:00.000Z\u001b[39m, value: \u001b[33m39.092647552490234\u001b[39m },\n",
      "  { timestamp: \u001b[35m2021-05-21T16:22:00.000Z\u001b[39m, value: \u001b[33m39.07500076293945\u001b[39m }\n",
      "]\n"
     ]
    }
   ],
   "source": [
    "points"
   ]
  },
  {
   "cell_type": "code",
   "execution_count": 21,
   "id": "50111629-1385-4488-b9fa-59404569affa",
   "metadata": {},
   "outputs": [],
   "source": [
    "const fs = require('fs');\n",
    "const parse = require(\"csv-parse/lib/sync\");\n",
    "const { AnomalyDetectorClient } = require('@azure/ai-anomaly-detector');\n",
    "const { AzureKeyCredential } = require('@azure/core-auth');"
   ]
  },
  {
   "cell_type": "code",
   "execution_count": 22,
   "id": "e945e40c-84a4-4a66-b8ad-f1bf14d4ebcd",
   "metadata": {},
   "outputs": [],
   "source": [
    "const dotenv = require(\"dotenv\");\n",
    "dotenv.config();\n",
    "// Authentication variables\n",
    "// Add your Anomaly Detector subscription key and endpoint to your environment variables.\n",
    "const key = process.env[\"API_KEY\"] || \"\";\n",
    "const endpoint = process.env[\"ENDPOINT\"] || \"\";"
   ]
  },
  {
   "cell_type": "code",
   "execution_count": 23,
   "id": "ddc5d1c9-d7a8-4fdd-863c-7e6b0f74ae1f",
   "metadata": {},
   "outputs": [],
   "source": [
    "// <authentication>\n",
    "let anomalyDetectorClient = new AnomalyDetectorClient(endpoint, new AzureKeyCredential(key));\n",
    "// </authentication>"
   ]
  },
  {
   "cell_type": "code",
   "execution_count": 24,
   "id": "a76319ed-b344-4d19-a4c2-0c1df7bc17fa",
   "metadata": {},
   "outputs": [
    {
     "name": "stdout",
     "output_type": "stream",
     "text": [
      "Latest point anomaly detection:\n",
      "The latest point, in row 15, is not detected as an anomaly.\n",
      "\u001b[33mfalse\u001b[39m\n"
     ]
    }
   ],
   "source": [
    "// <lastDetection>\n",
    "async function lastDetection() : Promise<boolean> {\n",
    "\n",
    "    let body = { series: points, granularity: 'minutely' }\n",
    "    // Make the call to detect anomalies in the latest point of a series\n",
    "    return await anomalyDetectorClient.detectLastPoint(body)\n",
    "        .then((response) => {\n",
    "            console.log(\"Latest point anomaly detection:\")\n",
    "            if (response.isAnomaly) {\n",
    "                console.log(\"The latest point, in row \" + points.length + \", is detected as an anomaly.\")\n",
    "                return true;\n",
    "            } else {\n",
    "                console.log(\"The latest point, in row \" + points.length + \", is not detected as an anomaly.\")\n",
    "                return false;\n",
    "            }\n",
    "        }).catch((error) => {\n",
    "            console.log(error)\n",
    "            return false;\n",
    "        })\n",
    "}\n",
    "console.log(await lastDetection());\n",
    "// </lastDetection>"
   ]
  },
  {
   "cell_type": "code",
   "execution_count": 25,
   "id": "60e4915d-384f-481c-8c46-653f4ceed717",
   "metadata": {},
   "outputs": [
    {
     "name": "stdout",
     "output_type": "stream",
     "text": [
      "[\n",
      "  { timestamp: \u001b[35m2021-05-21T16:08:00.000Z\u001b[39m, value: \u001b[33m39.49852752685547\u001b[39m },\n",
      "  { timestamp: \u001b[35m2021-05-21T16:09:00.000Z\u001b[39m, value: \u001b[33m39.60441207885742\u001b[39m },\n",
      "  { timestamp: \u001b[35m2021-05-21T16:10:00.000Z\u001b[39m, value: \u001b[33m39.67500305175781\u001b[39m },\n",
      "  { timestamp: \u001b[35m2021-05-21T16:11:00.000Z\u001b[39m, value: \u001b[33m39.56911849975586\u001b[39m },\n",
      "  { timestamp: \u001b[35m2021-05-21T16:12:00.000Z\u001b[39m, value: \u001b[33m39.41029357910156\u001b[39m },\n",
      "  { timestamp: \u001b[35m2021-05-21T16:13:00.000Z\u001b[39m, value: \u001b[33m39.21617889404297\u001b[39m },\n",
      "  { timestamp: \u001b[35m2021-05-21T16:14:00.000Z\u001b[39m, value: \u001b[33m38.72206115722656\u001b[39m },\n",
      "  { timestamp: \u001b[35m2021-05-21T16:15:00.000Z\u001b[39m, value: \u001b[33m38.52793884277344\u001b[39m },\n",
      "  { timestamp: \u001b[35m2021-05-21T16:16:00.000Z\u001b[39m, value: \u001b[33m38.369117736816406\u001b[39m },\n",
      "  { timestamp: \u001b[35m2021-05-21T16:17:00.000Z\u001b[39m, value: \u001b[33m38.40441131591797\u001b[39m },\n",
      "  { timestamp: \u001b[35m2021-05-21T16:18:00.000Z\u001b[39m, value: \u001b[33m38.38676452636719\u001b[39m },\n",
      "  { timestamp: \u001b[35m2021-05-21T16:19:00.000Z\u001b[39m, value: \u001b[33m38.86323547363281\u001b[39m },\n",
      "  { timestamp: \u001b[35m2021-05-21T16:20:00.000Z\u001b[39m, value: \u001b[33m38.95146942138672\u001b[39m },\n",
      "  { timestamp: \u001b[35m2021-05-21T16:21:00.000Z\u001b[39m, value: \u001b[33m39.092647552490234\u001b[39m },\n",
      "  { timestamp: \u001b[35m2021-05-21T16:22:00.000Z\u001b[39m, value: \u001b[33m39.07500076293945\u001b[39m }\n",
      "]\n"
     ]
    }
   ],
   "source": [
    "points"
   ]
  },
  {
   "cell_type": "code",
   "execution_count": 26,
   "id": "6fb37bf4-b20e-4af7-884d-ad61c3a373d6",
   "metadata": {},
   "outputs": [],
   "source": [
    "let lastItem = points[points.length - 1]\n",
    "//let entry = { timestamp: rounded, value: data.temperature } as Entry;\n",
    "//points.push(entry);"
   ]
  },
  {
   "cell_type": "code",
   "execution_count": 27,
   "id": "05699e51-c51f-4466-9153-38638854f6f9",
   "metadata": {},
   "outputs": [
    {
     "name": "stdout",
     "output_type": "stream",
     "text": [
      "{ timestamp: \u001b[35m2021-05-21T16:22:00.000Z\u001b[39m, value: \u001b[33m39.07500076293945\u001b[39m }\n"
     ]
    }
   ],
   "source": [
    "lastItem"
   ]
  },
  {
   "cell_type": "code",
   "execution_count": 28,
   "id": "1684c1e3-b0b3-4a81-b509-992c93b57ab8",
   "metadata": {},
   "outputs": [
    {
     "name": "stdout",
     "output_type": "stream",
     "text": [
      "\u001b[33m1621614180000\u001b[39m\n"
     ]
    }
   ],
   "source": [
    "lastItem.timestamp.setTime(lastItem.timestamp.getTime() + 1000 * 60);"
   ]
  },
  {
   "cell_type": "code",
   "execution_count": 29,
   "id": "7e3775e4-7d28-42c5-a4b6-954c7e6933d8",
   "metadata": {},
   "outputs": [
    {
     "name": "stdout",
     "output_type": "stream",
     "text": [
      "\u001b[33m139.07500076293945\u001b[39m\n"
     ]
    }
   ],
   "source": [
    "lastItem.value = lastItem.value + 100;"
   ]
  },
  {
   "cell_type": "code",
   "execution_count": 30,
   "id": "4022313d-839b-4464-971c-6be393c2d918",
   "metadata": {},
   "outputs": [],
   "source": [
    "const O = [0, 0, 0];\n",
    "const X = [255, 0, 0];\n",
    "\n",
    "const cross = [\n",
    "\tX, O, O, O, O, O, O, X,\n",
    "\tO, X, O, O, O, O, X, O,\n",
    "\tO, O, X, O, O, X, O, O,\n",
    "\tO, O, O, X, X, O, O, O,\n",
    "\tO, O, O, X, X, O, O, O,\n",
    "\tO, O, X, O, O, X, O, O,\n",
    "\tO, X, O, O, O, O, X, O,\n",
    "\tX, O, O, O, O, O, O, X,\n",
    "];\n"
   ]
  },
  {
   "cell_type": "code",
   "execution_count": 31,
   "id": "ce751bc4-97c0-4aa1-b0f8-6c9be334e896",
   "metadata": {},
   "outputs": [
    {
     "name": "stdout",
     "output_type": "stream",
     "text": [
      "Latest point anomaly detection:\n",
      "The latest point, in row 15, is detected as an anomaly.\n"
     ]
    }
   ],
   "source": [
    "let result = await lastDetection();\n",
    "if (result)\n",
    "{\n",
    "    matrix.setPixels(cross);\n",
    "}"
   ]
  },
  {
   "cell_type": "code",
   "execution_count": 32,
   "id": "25c02c8a-c454-467d-8af3-5daa3c593100",
   "metadata": {},
   "outputs": [],
   "source": [
    "matrix.clear([0, 0, 0]);"
   ]
  },
  {
   "cell_type": "code",
   "execution_count": null,
   "id": "568840d3-0b0e-4665-878b-d32dc2365ff0",
   "metadata": {},
   "outputs": [],
   "source": []
  }
 ],
 "metadata": {
  "kernelspec": {
   "display_name": "TypeScript",
   "language": "typescript",
   "name": "tslab"
  },
  "language_info": {
   "codemirror_mode": {
    "mode": "typescript",
    "name": "javascript",
    "typescript": true
   },
   "file_extension": ".ts",
   "mimetype": "text/typescript",
   "name": "typescript",
   "version": "3.7.2"
  }
 },
 "nbformat": 4,
 "nbformat_minor": 5
}

{
 "cells": [
  {
   "cell_type": "code",
   "execution_count": 1,
   "id": "81e913e1-464b-411d-bb5d-20442af6eb95",
   "metadata": {},
   "outputs": [],
   "source": [
    "let stats = require(\"stats-analysis\");"
   ]
  },
  {
   "cell_type": "code",
   "execution_count": 2,
   "id": "88f9f5ae-f931-44e7-adeb-aaf36f4335a6",
   "metadata": {},
   "outputs": [],
   "source": [
    "var arr = [-2, 1, 2, 3, 3, 4, 15, 25]"
   ]
  },
  {
   "cell_type": "code",
   "execution_count": 3,
   "id": "3b44df07-504c-4b6e-9883-5a552faa2c5b",
   "metadata": {},
   "outputs": [
    {
     "name": "stdout",
     "output_type": "stream",
     "text": [
      "[ \u001b[33m-2\u001b[39m, \u001b[33m1\u001b[39m, \u001b[33m2\u001b[39m, \u001b[33m3\u001b[39m, \u001b[33m3\u001b[39m, \u001b[33m4\u001b[39m ]\n"
     ]
    }
   ],
   "source": [
    "stats.filterOutliers(arr)"
   ]
  },
  {
   "cell_type": "markdown",
   "id": "a5e51036-ffc4-487f-9ead-809e196f92db",
   "metadata": {},
   "source": [
    "Outlier Detection & Filtering using Iglewicz and Hoaglin's method (MAD) - Use this if the order of your data does not matter.\n",
    "\n",
    "Outlier Detection & Filtering using Median Differencing (Default method) - Use this if the order of your data matters. This looks at the difference between adjacent points best for time series data."
   ]
  },
  {
   "cell_type": "code",
   "execution_count": null,
   "id": "ee36277d-c3de-4f10-bbf0-cceceb2f9528",
   "metadata": {},
   "outputs": [],
   "source": []
  }
 ],
 "metadata": {
  "kernelspec": {
   "display_name": "TypeScript",
   "language": "typescript",
   "name": "tslab"
  },
  "language_info": {
   "codemirror_mode": {
    "mode": "typescript",
    "name": "javascript",
    "typescript": true
   },
   "file_extension": ".ts",
   "mimetype": "text/typescript",
   "name": "typescript",
   "version": "3.7.2"
  }
 },
 "nbformat": 4,
 "nbformat_minor": 5
}
